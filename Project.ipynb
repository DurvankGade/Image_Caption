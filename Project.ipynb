{
 "cells": [
  {
   "cell_type": "markdown",
   "id": "30d34e8e-b849-42f7-aa66-c9a9facb7568",
   "metadata": {},
   "source": [
    "<h1 align = \"Center\">Image Captioning Using VGG16</h1>\n",
    "<h5><b>Authors:</b> <ul><li>Suryakiran R</li><br><li>Durvank Gade</li><br><li>Nikhil Bansal</li><br><li>Rishvan Rajavel</li><br></ul></h5>"
   ]
  },
  {
   "cell_type": "code",
   "execution_count": null,
   "id": "452abbf7-7455-43d8-b0a7-025f86461a76",
   "metadata": {},
   "outputs": [],
   "source": []
  }
 ],
 "metadata": {
  "kernelspec": {
   "display_name": "Python 3 (ipykernel)",
   "language": "python",
   "name": "python3"
  },
  "language_info": {
   "codemirror_mode": {
    "name": "ipython",
    "version": 3
   },
   "file_extension": ".py",
   "mimetype": "text/x-python",
   "name": "python",
   "nbconvert_exporter": "python",
   "pygments_lexer": "ipython3",
   "version": "3.11.4"
  }
 },
 "nbformat": 4,
 "nbformat_minor": 5
}
