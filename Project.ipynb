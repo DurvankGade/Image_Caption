{
 "cells": [
  {
   "cell_type": "markdown",
   "id": "30d34e8e-b849-42f7-aa66-c9a9facb7568",
   "metadata": {},
   "source": [
    "<h1 align = \"Center\">Image Captioning Using VGG16</h1>\n",
    "<h5><b>Authors:</b> <ul><li>Suryakiran R</li><br><li>Durvank Gade</li><br><li>Nikhil Bansal</li><br><li>Rishvan Rajavel</li><br></ul></h5>"
   ]
  },
  {
   "cell_type": "code",
   "execution_count": 1,
   "id": "452abbf7-7455-43d8-b0a7-025f86461a76",
   "metadata": {},
   "outputs": [
    {
     "name": "stdout",
     "output_type": "stream",
     "text": [
      "WARNING:tensorflow:From C:\\Users\\riyab\\AppData\\Roaming\\Python\\Python311\\site-packages\\keras\\src\\losses.py:2976: The name tf.losses.sparse_softmax_cross_entropy is deprecated. Please use tf.compat.v1.losses.sparse_softmax_cross_entropy instead.\n",
      "\n"
     ]
    }
   ],
   "source": [
    "import numpy as np\n",
    "import pandas as pd\n",
    "from PIL import Image\n",
    "import os\n",
    "from tensorflow.keras.preprocessing.text import Tokenizer\n",
    "from tensorflow.keras.preprocessing.sequence import pad_sequences\n",
    "from tensorflow.keras.applications.vgg16 import preprocess_input"
   ]
  },
  {
   "cell_type": "code",
   "execution_count": 2,
   "id": "6b7917cc",
   "metadata": {},
   "outputs": [],
   "source": [
    "image_file = \"Data/Images/flickr30k_images\"\n",
    "captions_file = \"Data/captions.txt\""
   ]
  },
  {
   "cell_type": "code",
   "execution_count": 3,
   "id": "deb06485",
   "metadata": {},
   "outputs": [],
   "source": [
    "cap_df = pd.read_csv(captions_file)\n",
    "cap_df.columns = ['image','caption']"
   ]
  },
  {
   "cell_type": "code",
   "execution_count": 4,
   "id": "be425cbe",
   "metadata": {},
   "outputs": [],
   "source": [
    "def preprocess_image(image_file, target_size=(224, 224)):\n",
    "    img = Image.open(image_file).resize(target_size)\n",
    "    img = np.array(img)\n",
    "    if img.shape[-1] == 4:  # If the image has an alpha channel, remove it\n",
    "        img = img[..., :3]\n",
    "    img = preprocess_input(img)  # VGG16 preprocessing\n",
    "    return img"
   ]
  },
  {
   "cell_type": "code",
   "execution_count": 5,
   "id": "4a706f3c",
   "metadata": {},
   "outputs": [],
   "source": [
    "def preprocess_captions(captions, max_length=20):\n",
    "    tokenizer = Tokenizer(num_words=5000, oov_token='<OOV>')\n",
    "    tokenizer.fit_on_texts(captions)\n",
    "    sequences = tokenizer.texts_to_sequences(captions)\n",
    "    padded_sequences = pad_sequences(sequences, maxlen=max_length, padding='post')\n",
    "    return tokenizer, padded_sequences\n",
    "\n"
   ]
  },
  {
   "cell_type": "code",
   "execution_count": 7,
   "id": "09b2c6c7",
   "metadata": {},
   "outputs": [],
   "source": [
    "captions_list = cap_df['caption'].astype(str).tolist()\n",
    "tokenizer, padded_captions = preprocess_captions(captions_list)\n",
    "\n",
    "preprocessed_images = []\n",
    "for img_name in cap_df['image']:\n",
    "    img_path = os.path.join(image_file, img_name)\n",
    "    preprocessed_images.append(preprocess_image(img_path))\n",
    "\n",
    "preprocessed_images = np.array(preprocessed_images)\n"
   ]
  },
  {
   "cell_type": "code",
   "execution_count": null,
   "id": "a3224922",
   "metadata": {},
   "outputs": [],
   "source": []
  }
 ],
 "metadata": {
  "kernelspec": {
   "display_name": "Python 3 (ipykernel)",
   "language": "python",
   "name": "python3"
  },
  "language_info": {
   "codemirror_mode": {
    "name": "ipython",
    "version": 3
   },
   "file_extension": ".py",
   "mimetype": "text/x-python",
   "name": "python",
   "nbconvert_exporter": "python",
   "pygments_lexer": "ipython3",
   "version": "3.11.0"
  }
 },
 "nbformat": 4,
 "nbformat_minor": 5
}
