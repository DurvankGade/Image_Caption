{
 "cells": [
  {
   "cell_type": "markdown",
   "id": "30d34e8e-b849-42f7-aa66-c9a9facb7568",
   "metadata": {},
   "source": [
    "<h1 align = \"Center\">Image Captioning Using VGG16</h1>\n",
    "<h5><b>Authors:</b> <ul><li>Suryakiran R</li><br><li>Durvank Gade</li><br><li>Nikhil Bansal</li><br><li>Rishvan Rajavel</li><br></ul></h5>"
   ]
  },
  {
   "cell_type": "code",
   "execution_count": 1,
   "id": "452abbf7-7455-43d8-b0a7-025f86461a76",
   "metadata": {},
   "outputs": [
    {
     "name": "stdout",
     "output_type": "stream",
     "text": [
      "WARNING:tensorflow:From C:\\Users\\riyab\\AppData\\Roaming\\Python\\Python311\\site-packages\\keras\\src\\losses.py:2976: The name tf.losses.sparse_softmax_cross_entropy is deprecated. Please use tf.compat.v1.losses.sparse_softmax_cross_entropy instead.\n",
      "\n"
     ]
    }
   ],
   "source": [
    "import numpy as np\n",
    "import pandas as pd\n",
    "from PIL import Image\n",
    "import os\n",
    "from tensorflow.keras.preprocessing.text import Tokenizer\n",
    "from tensorflow.keras.preprocessing.sequence import pad_sequences\n",
    "from tensorflow.keras.applications.vgg16 import preprocess_input"
   ]
  },
  {
   "cell_type": "code",
   "execution_count": 2,
   "id": "6b7917cc",
   "metadata": {},
   "outputs": [],
   "source": [
    "image_file = \"Data/Images/flickr30k_images\"\n",
    "captions_file = \"Data/captions.txt\""
   ]
  },
  {
   "cell_type": "code",
   "execution_count": 3,
   "id": "deb06485",
   "metadata": {},
   "outputs": [],
   "source": [
    "cap_df = pd.read_csv(captions_file)\n",
    "cap_df.columns = ['image','caption']"
   ]
  },
  {
   "cell_type": "code",
   "execution_count": 4,
   "id": "be425cbe",
   "metadata": {},
   "outputs": [],
   "source": [
    "def preprocess_image(image_file, target_size=(224, 224)):\n",
    "    img = Image.open(image_file).resize(target_size)\n",
    "    img = np.array(img)\n",
    "    if img.shape[-1] == 4:  # If the image has an alpha channel, remove it\n",
    "        img = img[..., :3]\n",
    "    img = preprocess_input(img)  # VGG16 preprocessing\n",
    "    return img"
   ]
  },
  {
   "cell_type": "code",
   "execution_count": 5,
   "id": "4a706f3c",
   "metadata": {},
   "outputs": [],
   "source": [
    "def preprocess_captions(captions, max_length=20):\n",
    "    tokenizer = Tokenizer(num_words=5000, oov_token='<OOV>')\n",
    "    tokenizer.fit_on_texts(captions)\n",
    "    sequences = tokenizer.texts_to_sequences(captions)\n",
    "    padded_sequences = pad_sequences(sequences, maxlen=max_length, padding='post')\n",
    "    return tokenizer, padded_sequences\n",
    "\n"
   ]
  },
  {
   "cell_type": "code",
   "execution_count": 6,
   "id": "09b2c6c7",
   "metadata": {
    "scrolled": true
   },
   "outputs": [],
   "source": [
    "captions_list = cap_df['caption'].astype(str).tolist()\n",
    "tokenizer, padded_captions = preprocess_captions(captions_list)\n",
    "\n",
    "preprocessed_images = []\n",
    "for img_name in cap_df['image'][0:5000]:\n",
    "    img_path = image_file + '/' + img_name\n",
    "    preprocessed_images.append(preprocess_image(img_path))\n",
    "\n"
   ]
  },
  {
   "cell_type": "code",
   "execution_count": 7,
   "id": "30c88fd6-e466-467f-895d-40476129b85e",
   "metadata": {},
   "outputs": [],
   "source": [
    "for img_name in cap_df['image'][5000:10000]:\n",
    "    img_path = image_file + '/' + img_name\n",
    "    preprocessed_images.append(preprocess_image(img_path))"
   ]
  },
  {
   "cell_type": "code",
   "execution_count": 8,
   "id": "38ada780-72c6-4fd7-8878-8d8366dbb703",
   "metadata": {},
   "outputs": [],
   "source": [
    "for img_name in cap_df['image'][10000:15000]:\n",
    "    img_path = image_file + '/' + img_name\n",
    "    preprocessed_images.append(preprocess_image(img_path))"
   ]
  },
  {
   "cell_type": "code",
   "execution_count": 9,
   "id": "701ded25-b5fe-4e0e-adbd-d09c3a304126",
   "metadata": {},
   "outputs": [],
   "source": [
    "for img_name in cap_df['image'][15000:20000]:\n",
    "    img_path = image_file + '/' + img_name\n",
    "    preprocessed_images.append(preprocess_image(img_path))"
   ]
  },
  {
   "cell_type": "code",
   "execution_count": 10,
   "id": "7040ea3f-5fd5-48c6-b21b-db7bb0a6790e",
   "metadata": {},
   "outputs": [],
   "source": [
    "for img_name in cap_df['image'][20000:25000]:\n",
    "    img_path = image_file + '/' + img_name\n",
    "    preprocessed_images.append(preprocess_image(img_path))"
   ]
  },
  {
   "cell_type": "code",
   "execution_count": 11,
   "id": "90e99f9d-c0b2-4051-b9c8-0921b00603d4",
   "metadata": {},
   "outputs": [],
   "source": [
    "for img_name in cap_df['image'][25000:30000]:\n",
    "    img_path = image_file + '/' + img_name\n",
    "    preprocessed_images.append(preprocess_image(img_path))"
   ]
  },
  {
   "cell_type": "code",
   "execution_count": 12,
   "id": "a1a9e246",
   "metadata": {},
   "outputs": [],
   "source": [
    "preprocessed_images = np.array(preprocessed_images)"
   ]
  },
  {
   "cell_type": "code",
   "execution_count": null,
   "id": "2de71253",
   "metadata": {},
   "outputs": [],
   "source": []
  }
 ],
 "metadata": {
  "kernelspec": {
   "display_name": "Python 3",
   "language": "python",
   "name": "python3"
  },
  "language_info": {
   "codemirror_mode": {
    "name": "ipython",
    "version": 3
   },
   "file_extension": ".py",
   "mimetype": "text/x-python",
   "name": "python",
   "nbconvert_exporter": "python",
   "pygments_lexer": "ipython3",
   "version": "3.11.0"
  }
 },
 "nbformat": 4,
 "nbformat_minor": 5
}
